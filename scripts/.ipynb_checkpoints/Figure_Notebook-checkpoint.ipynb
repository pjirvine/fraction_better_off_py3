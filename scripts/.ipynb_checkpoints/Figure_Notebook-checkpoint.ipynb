{
 "cells": [
  {
   "cell_type": "markdown",
   "metadata": {},
   "source": [
    "# Figure Notebook"
   ]
  },
  {
   "cell_type": "code",
   "execution_count": 3,
   "metadata": {},
   "outputs": [],
   "source": [
    "\"\"\"\n",
    "Import needed libraries\n",
    "\"\"\"\n",
    "\n",
    "import numpy as np\n",
    "import pandas as pd\n",
    "from copy import copy\n",
    "import sys\n",
    "\n",
    "# analysis\n",
    "from scipy.stats import ttest_ind_from_stats\n",
    "import itertools\n",
    "\n",
    "# geomip_data\n",
    "import os.path\n",
    "# import cf\n",
    "from netCDF4 import Dataset\n",
    "\n",
    "# plotting\n",
    "import matplotlib.pyplot as plt\n",
    "import matplotlib.patches as mpatches\n",
    "import matplotlib.colors as colors\n",
    "import matplotlib.cm as cmx\n",
    "from matplotlib.colors import LogNorm"
   ]
  },
  {
   "cell_type": "code",
   "execution_count": 4,
   "metadata": {},
   "outputs": [],
   "source": [
    "%load_ext autoreload\n",
    "%autoreload 2"
   ]
  },
  {
   "cell_type": "code",
   "execution_count": 5,
   "metadata": {},
   "outputs": [],
   "source": [
    "\"\"\"\n",
    "Import all from projects python scripts\n",
    "\"\"\"\n",
    "\n",
    "# from gfdl_data import *\n",
    "# from analysis import *\n",
    "# from plotting import *"
   ]
  },
  {
   "cell_type": "code",
   "execution_count": 7,
   "metadata": {},
   "outputs": [
    {
     "data": {
      "text/plain": [
       "'\\nFIN\\n'"
      ]
     },
     "execution_count": 7,
     "metadata": {},
     "output_type": "execute_result"
    }
   ],
   "source": [
    "# %load gfdl_data.py\n",
    "\n",
    "\"\"\"\n",
    "GFDL Load Data\n",
    "\"\"\"\n",
    "\n",
    "# import modules:\n",
    "\n",
    "# import cf\n",
    "from netCDF4 import Dataset\n",
    "import numpy as np\n",
    "\n",
    "\"\"\"\n",
    "This Function gets means and standard deviations from GFDL regional data\n",
    "\"\"\"\n",
    "\n",
    "def get_means_stds(var, exp, reg_type):\n",
    "    \n",
    "    jie_dir = '/n/home03/pjirvine/keithfs1_pji/gfdl_jie_data/'\n",
    "    gfdl_file_loc = '{var}.hiFLOR.SREX.monsoon.nc'  \n",
    "    nc = Dataset(jie_dir + gfdl_file_loc.format(var=var))\n",
    "    \n",
    "    field_names = '{var}_{exp}_{reg_type}' #'ncvar%{var}_{exp}_{reg_type}'\n",
    "    data = nc.variables[field_names.format(var=var,exp=exp,reg_type=reg_type)][:]\n",
    "    \n",
    "    return np.mean(data,axis=1), np.std(data,axis=1)\n",
    "\n",
    "\"\"\"\n",
    "This function gets all 2D GFDL data\n",
    "\"\"\"\n",
    "\n",
    "def get_all_gfdl():\n",
    "\n",
    "    # Get the individual 2D datasets\n",
    "    def get_gfdl(var, exp, stat):\n",
    "        \n",
    "        jie_file_std = '{var}_HiFLOR_{stat}_{exp}.nc'.format(var=var, exp=exp, stat=stat)\n",
    "        if var == 'tasmax': # correction to account for weird naming in jie files\n",
    "            var = 'tasmax1max'\n",
    "        file_var = '{var}_{stat}_{exp}'.format(var=var, exp=exp, stat=stat)\n",
    "        gfdl_file_loc = jie_dir + jie_file_std\n",
    "        f = Dataset(gfdl_file_loc).variables[file_var][:]\n",
    "\n",
    "        return f.squeeze()\n",
    "    \n",
    "    jie_dir = '/n/home03/pjirvine/keithfs1_pji/gfdl_jie_data/'\n",
    "\n",
    "    vars_hiflor = ['tas','tasmax','precip','precip5max','pe']\n",
    "    #                K      K        mm/day   mm/day    mm/day\n",
    "    exps_hiflor = ['ctrl','CO2','SRM']\n",
    "    stats_hiflor = ['mean','std']\n",
    "\n",
    "    jie_data = {}\n",
    "\n",
    "    for var in vars_hiflor:\n",
    "        for exp in exps_hiflor:\n",
    "            for stat in stats_hiflor:\n",
    "\n",
    "                jie_data[exp,var,stat] = get_gfdl(var, exp, stat)\n",
    "\n",
    "    return jie_data\n",
    "\n",
    "\"\"\"\n",
    "GFDL masks\n",
    "\"\"\"\n",
    "\n",
    "def get_gfdl_masks_weights():\n",
    "    \n",
    "    jie_dir = '/n/home03/pjirvine/keithfs1_pji/gfdl_jie_data/'\n",
    "    \n",
    "    \"\"\"\n",
    "    Masks\n",
    "    \"\"\"\n",
    "    masks_weights = {}\n",
    "\n",
    "    # turn field into array then squeeze off degenerate dimensions\n",
    "\n",
    "    # land_noice mask\n",
    "    jie_land_ga_file = 'HiFLOR_land_no_gr_ant.nc'\n",
    "    f = Dataset(jie_dir + jie_land_ga_file).variables['landfrac'][:].squeeze()\n",
    "    land_noice_data = f\n",
    "    masks_weights['land_noice_mask'] = land_noice_data > 0.5\n",
    "\n",
    "    # land mask\n",
    "    jie_land_file = 'HiFLOR_landfrac.nc'\n",
    "    f = Dataset(jie_dir + jie_land_file).variables['landfrac'][:].squeeze()\n",
    "    land_data = f\n",
    "    masks_weights['land_mask'] = land_data > 0.5\n",
    "\n",
    "    \"\"\"\n",
    "    Weights\n",
    "    \"\"\"\n",
    "\n",
    "    # pop weight\n",
    "    jie_pop_file = 'HiFLOR_pop.nc'\n",
    "    f = Dataset(jie_dir + jie_pop_file).variables['pop'][:].squeeze()\n",
    "    pop_data = f\n",
    "    masks_weights['pop'] = pop_data / np.sum(pop_data)\n",
    "\n",
    "    # ag weight\n",
    "    jie_ag_file = 'HiFLOR_agriculture.nc'\n",
    "    f = Dataset(jie_dir + jie_ag_file).variables['fraction'][:].squeeze()\n",
    "    ag_data = f\n",
    "    masks_weights['ag'] = ag_data / np.sum(ag_data)\n",
    "\n",
    "    # area weight\n",
    "    weight_dir = '/n/home03/pjirvine/keithfs1_pji/model_ref_files/weights/'\n",
    "    weight_file = 'HiFLOR_weights.nc'\n",
    "\n",
    "    # get area weight, turn to array, squeeze off extra dims\n",
    "    f = Dataset(weight_dir + weight_file).variables['cell_weights'][:].squeeze()\n",
    "    weight_data = f\n",
    "    masks_weights['area'] = weight_data # sums to 1.0\n",
    "\n",
    "    # land area weight\n",
    "    temp_data = land_data * weight_data\n",
    "    masks_weights['land_area'] = temp_data / np.sum(temp_data)\n",
    "\n",
    "    # land_noice area weight\n",
    "    temp_data = land_noice_data * weight_data\n",
    "    masks_weights['land_noice_area'] = temp_data / np.sum(temp_data)\n",
    "    \n",
    "    # 'land_mask', 'land_noice_mask'\n",
    "    # 'pop', 'ag', 'area', 'land_area', 'land_noice_area'\n",
    "    return masks_weights\n",
    "\n",
    "\"\"\"\n",
    "FIN\n",
    "\"\"\""
   ]
  },
  {
   "cell_type": "code",
   "execution_count": 8,
   "metadata": {},
   "outputs": [],
   "source": [
    "\"\"\"\n",
    "Load all GFDL data\n",
    "\"\"\"\n",
    "\n",
    "vars_hiflor = ['tas','tasmax','precip','precip5max','pe']\n",
    "exps_hiflor = ['ctrl','CO2','SRM']\n",
    "stats_hiflor = ['mean','std']\n",
    "\n",
    "masks_hiflor = ['pop', 'ag', 'area', 'land_area', 'land_noice_area']\n",
    "\n",
    "gfdl_data = get_all_gfdl() # gfdl_data[exp,var,stat]\n",
    "gfdl_masks = get_gfdl_masks_weights() # gfdl_masks[masks]"
   ]
  },
  {
   "cell_type": "code",
   "execution_count": 6,
   "metadata": {
    "collapsed": true
   },
   "outputs": [],
   "source": [
    "\"\"\"\n",
    "Set standard plot options\n",
    "\"\"\"\n",
    "\n",
    "def cm2inch(*tupl):\n",
    "    inch = 2.54\n",
    "    if isinstance(tupl[0], tuple):\n",
    "        return tuple(i/inch for i in tupl[0])\n",
    "    else:\n",
    "        return tuple(i/inch for i in tupl)\n",
    "\n",
    "plt.rcParams.update({'font.size': 8})\n",
    "plt.rcParams.update({'figure.figsize': cm2inch(8.5,8.5)})\n",
    "\n",
    "# color guide here: https://www.w3schools.com/colors/colors_picker.asp\n",
    "red = '#ff0000'\n",
    "l_red = '#ffc0c0' # old: '#ffd9d9'\n",
    "blue = '#0066ff'\n",
    "l_blue = '#c0c0ff' # old:'#b2d0ff'\n",
    "\n",
    "std_alpha = 0.2"
   ]
  },
  {
   "cell_type": "code",
   "execution_count": 7,
   "metadata": {
    "collapsed": true
   },
   "outputs": [],
   "source": [
    "import matplotlib as mpl\n",
    "mpl.rcParams['figure.dpi']= 300 # set inline images to hi-res\n",
    "%matplotlib inline"
   ]
  },
  {
   "cell_type": "markdown",
   "metadata": {},
   "source": [
    "# Insert Sections Here"
   ]
  },
  {
   "cell_type": "code",
   "execution_count": null,
   "metadata": {
    "collapsed": true
   },
   "outputs": [],
   "source": []
  }
 ],
 "metadata": {
  "kernelspec": {
   "display_name": "Python [conda env:climate_odyssey]",
   "language": "python",
   "name": "conda-env-climate_odyssey-py"
  },
  "language_info": {
   "codemirror_mode": {
    "name": "ipython",
    "version": 3
   },
   "file_extension": ".py",
   "mimetype": "text/x-python",
   "name": "python",
   "nbconvert_exporter": "python",
   "pygments_lexer": "ipython3",
   "version": "3.6.8"
  }
 },
 "nbformat": 4,
 "nbformat_minor": 2
}
