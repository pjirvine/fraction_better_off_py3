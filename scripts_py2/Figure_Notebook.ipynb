{
 "cells": [
  {
   "cell_type": "markdown",
   "metadata": {},
   "source": [
    "# Figure Notebook"
   ]
  },
  {
   "cell_type": "code",
   "execution_count": 2,
   "metadata": {},
   "outputs": [
    {
     "name": "stdout",
     "output_type": "stream",
     "text": [
      "Could not load xarray\n"
     ]
    }
   ],
   "source": [
    "\"\"\"\n",
    "Import needed libraries\n",
    "\"\"\"\n",
    "\n",
    "import numpy as np\n",
    "import pandas as pd\n",
    "from copy import copy\n",
    "import sys\n",
    "\n",
    "\"\"\"\n",
    "Import all from projects python scripts\n",
    "\"\"\"\n",
    "\n",
    "from geomip_data import *\n",
    "from gfdl_data import *\n",
    "from analysis import *\n",
    "from plotting import *"
   ]
  },
  {
   "cell_type": "code",
   "execution_count": 3,
   "metadata": {
    "collapsed": true
   },
   "outputs": [],
   "source": [
    "%load_ext autoreload\n",
    "%autoreload 2"
   ]
  },
  {
   "cell_type": "markdown",
   "metadata": {},
   "source": [
    "# Load GeoMIP Data"
   ]
  },
  {
   "cell_type": "code",
   "execution_count": 4,
   "metadata": {},
   "outputs": [
    {
     "data": {
      "text/plain": [
       "'\\nEND\\n'"
      ]
     },
     "execution_count": 4,
     "metadata": {},
     "output_type": "execute_result"
    }
   ],
   "source": [
    "\"\"\"\n",
    "Set high-level settings for data\n",
    "\"\"\"\n",
    "\n",
    "# Ttest levels are 0.1 (90%), 0.33 (67%)\n",
    "ttest_level = 0.1\n",
    "fraction = 0.5\n",
    "seas = 'ann'\n",
    "\n",
    "\"\"\"\n",
    "Model list\n",
    "\"\"\"\n",
    "\n",
    "# Define list of experiments to use\n",
    "model_list = ['GISS-E2-R','HadCM3', 'BNU-ESM', 'CCSM4', 'CESM-CAM5.1-FV', 'CanESM2', 'CSIRO-Mk3L-1-2','HadGEM2-ES' ,'IPSL-CM5A-LR','MIROC-ESM','MPI-ESM-LR','NorESM1-M']\n",
    "\n",
    "\"\"\"\n",
    "Masks - Not sure this is needed, masks are in all_Data\n",
    "\"\"\"\n",
    "\n",
    "mask_list = ['global','land','ocean']\n",
    "\n",
    "# get all masks\n",
    "all_weights = get_all_weights(model_list, mask_list)\n",
    "\n",
    "# concatenate all weights together\n",
    "cat_weight = {}\n",
    "for mask in mask_list:\n",
    "    cat_weight[mask] = np.concatenate([all_weights[X][mask].flatten() for X in model_list])\n",
    "\n",
    "\"\"\"\n",
    "Get all_data\n",
    "\"\"\"\n",
    "\n",
    "all_data, miss_list = get_all_data(var_list, model_list, model_exp_runs, seas, var_offsets=var_offsets, var_mults=var_mults, ttest_level=ttest_level, fraction=fraction, flatten=True)\n",
    "# miss_list is a list of all files found missing\n",
    "# all_data[model][var][metric]\n",
    "\n",
    "\"\"\"\n",
    "Generate concatenated version of all_data.\n",
    "\"\"\"\n",
    "\n",
    "# get list of all metrics from all_data\n",
    "metric_list = sorted(list(all_data['BNU-ESM']['tas_Amon'].keys()))\n",
    "\n",
    "cat_data, cat_models, cat_num_models = cat_data_func(all_data, model_list, var_list, metric_list)\n",
    "\n",
    "\"\"\"\n",
    "END\n",
    "\"\"\""
   ]
  },
  {
   "cell_type": "code",
   "execution_count": 5,
   "metadata": {
    "collapsed": true
   },
   "outputs": [],
   "source": [
    "\"\"\"\n",
    "Load all GFDL data\n",
    "\"\"\"\n",
    "\n",
    "vars_hiflor = ['tas','tasmax','precip','precip5max','pe']\n",
    "exps_hiflor = ['ctrl','CO2','SRM']\n",
    "stats_hiflor = ['mean','std']\n",
    "\n",
    "masks_hiflor = ['pop', 'ag', 'area', 'land_area', 'land_noice_area']\n",
    "\n",
    "gfdl_data = get_all_gfdl() # gfdl_data[exp,var,stat]\n",
    "gfdl_masks = get_gfdl_masks_weights() # gfdl_masks[masks]"
   ]
  },
  {
   "cell_type": "code",
   "execution_count": 6,
   "metadata": {
    "collapsed": true
   },
   "outputs": [],
   "source": [
    "\"\"\"\n",
    "Set standard plot options\n",
    "\"\"\"\n",
    "\n",
    "def cm2inch(*tupl):\n",
    "    inch = 2.54\n",
    "    if isinstance(tupl[0], tuple):\n",
    "        return tuple(i/inch for i in tupl[0])\n",
    "    else:\n",
    "        return tuple(i/inch for i in tupl)\n",
    "\n",
    "plt.rcParams.update({'font.size': 8})\n",
    "plt.rcParams.update({'figure.figsize': cm2inch(8.5,8.5)})\n",
    "\n",
    "# color guide here: https://www.w3schools.com/colors/colors_picker.asp\n",
    "red = '#ff0000'\n",
    "l_red = '#ffc0c0' # old: '#ffd9d9'\n",
    "blue = '#0066ff'\n",
    "l_blue = '#c0c0ff' # old:'#b2d0ff'\n",
    "\n",
    "std_alpha = 0.2"
   ]
  },
  {
   "cell_type": "code",
   "execution_count": 7,
   "metadata": {
    "collapsed": true
   },
   "outputs": [],
   "source": [
    "import matplotlib as mpl\n",
    "mpl.rcParams['figure.dpi']= 300 # set inline images to hi-res\n",
    "%matplotlib inline"
   ]
  },
  {
   "cell_type": "markdown",
   "metadata": {},
   "source": [
    "# Insert Sections Here"
   ]
  },
  {
   "cell_type": "code",
   "execution_count": null,
   "metadata": {
    "collapsed": true
   },
   "outputs": [],
   "source": []
  }
 ],
 "metadata": {
  "kernelspec": {
   "display_name": "Python 3",
   "language": "python",
   "name": "python3"
  },
  "language_info": {
   "codemirror_mode": {
    "name": "ipython",
    "version": 3
   },
   "file_extension": ".py",
   "mimetype": "text/x-python",
   "name": "python",
   "nbconvert_exporter": "python",
   "pygments_lexer": "ipython3",
   "version": "3.6.5"
  }
 },
 "nbformat": 4,
 "nbformat_minor": 2
}
